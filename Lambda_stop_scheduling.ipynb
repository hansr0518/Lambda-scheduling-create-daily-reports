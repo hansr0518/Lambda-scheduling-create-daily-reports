{
 "cells": [
  {
   "cell_type": "code",
   "execution_count": null,
   "metadata": {},
   "outputs": [],
   "source": [
    "import boto3\n",
    "import pandas\n",
    "\n",
    "region = 'us-east-1'\n",
    "instances = ['i-070000bxxxx11111a'] # EC2 test instance ID\n",
    "\n",
    "def lambda_handler(event, context):\n",
    "    ec2 = boto3.client('ec2', region_name=region)\n",
    "    ec2.stop_instances(InstanceIds=instances)\n",
    "    print ('stopped your instances: ' + str(instances))\n"
   ]
  }
 ],
 "metadata": {
  "kernelspec": {
   "display_name": "Python 3",
   "language": "python",
   "name": "python3"
  },
  "language_info": {
   "codemirror_mode": {
    "name": "ipython",
    "version": 3
   },
   "file_extension": ".py",
   "mimetype": "text/x-python",
   "name": "python",
   "nbconvert_exporter": "python",
   "pygments_lexer": "ipython3",
   "version": "3.7.1"
  }
 },
 "nbformat": 4,
 "nbformat_minor": 2
}
